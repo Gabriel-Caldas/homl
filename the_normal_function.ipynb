{
 "cells": [
  {
   "cell_type": "code",
   "execution_count": 1,
   "metadata": {},
   "outputs": [],
   "source": [
    "import numpy as np"
   ]
  },
  {
   "cell_type": "code",
   "execution_count": 27,
   "metadata": {},
   "outputs": [],
   "source": [
    "X = np.array([[1, 2104, 5, 1, 45],\n",
    "              [1, 1416, 3, 2, 40],\n",
    "              [1, 1534, 3, 2, 30],\n",
    "              [1, 852, 2, 1, 36]])"
   ]
  },
  {
   "cell_type": "code",
   "execution_count": 30,
   "metadata": {},
   "outputs": [],
   "source": [
    "y = np.array([[460],\n",
    "              [232], \n",
    "              [315], \n",
    "              [178]])"
   ]
  },
  {
   "cell_type": "code",
   "execution_count": 31,
   "metadata": {},
   "outputs": [
    {
     "data": {
      "text/plain": [
       "array([[460],\n",
       "       [232],\n",
       "       [315],\n",
       "       [178]])"
      ]
     },
     "execution_count": 31,
     "metadata": {},
     "output_type": "execute_result"
    }
   ],
   "source": [
    "y"
   ]
  },
  {
   "cell_type": "code",
   "execution_count": 32,
   "metadata": {},
   "outputs": [],
   "source": [
    "Xt = X.T"
   ]
  },
  {
   "cell_type": "code",
   "execution_count": 48,
   "metadata": {},
   "outputs": [
    {
     "data": {
      "text/plain": [
       "array([[   1,    1,    1,    1],\n",
       "       [2104, 1416, 1534,  852],\n",
       "       [   5,    3,    3,    2],\n",
       "       [   1,    2,    2,    1],\n",
       "       [  45,   40,   30,   36]])"
      ]
     },
     "execution_count": 48,
     "metadata": {},
     "output_type": "execute_result"
    }
   ],
   "source": [
    "Xt"
   ]
  },
  {
   "cell_type": "code",
   "execution_count": 50,
   "metadata": {},
   "outputs": [
    {
     "data": {
      "text/plain": [
       "array([[      4,    5906,      13,       6,     151],\n",
       "       [   5906, 9510932,   21074,    8856,  228012],\n",
       "       [     13,   21074,      47,      19,     507],\n",
       "       [      6,    8856,      19,      10,     221],\n",
       "       [    151,  228012,     507,     221,    5821]])"
      ]
     },
     "execution_count": 50,
     "metadata": {},
     "output_type": "execute_result"
    }
   ],
   "source": [
    "Xt.dot(X)"
   ]
  },
  {
   "cell_type": "code",
   "execution_count": 51,
   "metadata": {},
   "outputs": [
    {
     "data": {
      "text/plain": [
       "array([[-2.98428740e+13,  1.40195149e+11, -6.34710170e+13,\n",
       "        -2.22162579e+13,  1.65430275e+12],\n",
       "       [ 1.40195149e+11, -6.58605459e+08,  2.98172645e+11,\n",
       "         1.04367012e+11, -7.77154442e+09],\n",
       "       [-6.34710170e+13,  2.98172645e+11, -1.34992695e+14,\n",
       "        -4.72504251e+13,  3.51843721e+12],\n",
       "       [-2.22162579e+13,  1.04367012e+11, -4.72504251e+13,\n",
       "        -1.65386925e+13,  1.23153074e+12],\n",
       "       [ 1.65430275e+12, -7.77154442e+09,  3.51843721e+12,\n",
       "         1.23153074e+12, -9.17042241e+10]])"
      ]
     },
     "execution_count": 51,
     "metadata": {},
     "output_type": "execute_result"
    }
   ],
   "source": [
    "np.linalg.inv(Xt.dot(X))"
   ]
  },
  {
   "cell_type": "code",
   "execution_count": 39,
   "metadata": {},
   "outputs": [
    {
     "data": {
      "text/plain": [
       "array([[  50.06201172],\n",
       "       [   0.67824173],\n",
       "       [-121.5859375 ],\n",
       "       [ -62.95556641],\n",
       "       [  -7.37902832]])"
      ]
     },
     "execution_count": 39,
     "metadata": {},
     "output_type": "execute_result"
    }
   ],
   "source": [
    "theta_best = np.linalg.inv(Xt.dot(X)).dot(Xt).dot(y)\n",
    "theta_best"
   ]
  },
  {
   "cell_type": "code",
   "execution_count": 42,
   "metadata": {},
   "outputs": [],
   "source": [
    "X_pred = np.array([[1, 1534, 3, 2, 30]])"
   ]
  },
  {
   "cell_type": "code",
   "execution_count": 45,
   "metadata": {},
   "outputs": [],
   "source": [
    "y_predict = X.dot(theta_best)"
   ]
  },
  {
   "cell_type": "code",
   "execution_count": 46,
   "metadata": {},
   "outputs": [
    {
     "data": {
      "text/plain": [
       "array([[474.14108276],\n",
       "       [224.6222229 ],\n",
       "       [378.44503021],\n",
       "       [ 56.15150452]])"
      ]
     },
     "execution_count": 46,
     "metadata": {},
     "output_type": "execute_result"
    }
   ],
   "source": [
    "y_predict"
   ]
  },
  {
   "cell_type": "code",
   "execution_count": null,
   "metadata": {},
   "outputs": [],
   "source": []
  }
 ],
 "metadata": {
  "kernelspec": {
   "display_name": "Python 3",
   "language": "python",
   "name": "python3"
  },
  "language_info": {
   "codemirror_mode": {
    "name": "ipython",
    "version": 3
   },
   "file_extension": ".py",
   "mimetype": "text/x-python",
   "name": "python",
   "nbconvert_exporter": "python",
   "pygments_lexer": "ipython3",
   "version": "3.8.5"
  }
 },
 "nbformat": 4,
 "nbformat_minor": 4
}
